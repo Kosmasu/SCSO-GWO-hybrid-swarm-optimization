{
 "cells": [
  {
   "cell_type": "code",
   "execution_count": 9,
   "id": "303645b3",
   "metadata": {},
   "outputs": [
    {
     "name": "stdout",
     "output_type": "stream",
     "text": [
      "thrust_output=-1.0 -> thrust_power=-0.80\n",
      "thrust_output=-0.9 -> thrust_power=-0.69\n",
      "thrust_output=-0.8 -> thrust_power=-0.57\n",
      "thrust_output=-0.7 -> thrust_power=-0.46\n",
      "thrust_output=-0.6 -> thrust_power=-0.34\n",
      "thrust_output=-0.5 -> thrust_power=-0.23\n",
      "thrust_output=-0.4 -> thrust_power=-0.11\n",
      "thrust_output=-0.3 -> thrust_power=0.00\n",
      "thrust_output=-0.2 -> thrust_power=0.00\n",
      "thrust_output=-0.1 -> thrust_power=0.00\n",
      "thrust_output=0.0 -> thrust_power=0.00\n",
      "thrust_output=0.1 -> thrust_power=0.00\n",
      "thrust_output=0.2 -> thrust_power=0.00\n",
      "thrust_output=0.3 -> thrust_power=0.00\n",
      "thrust_output=0.4 -> thrust_power=0.14\n",
      "thrust_output=0.5 -> thrust_power=0.29\n",
      "thrust_output=0.6 -> thrust_power=0.43\n",
      "thrust_output=0.7 -> thrust_power=0.57\n",
      "thrust_output=0.8 -> thrust_power=0.71\n",
      "thrust_output=0.9 -> thrust_power=0.86\n",
      "thrust_output=1.0 -> thrust_power=1.00\n"
     ]
    }
   ],
   "source": [
    "outputs = [\n",
    "    -1,\n",
    "    -0.9,\n",
    "    -0.8,\n",
    "    -0.7,\n",
    "    -0.6,\n",
    "    -0.5,\n",
    "    -0.4,\n",
    "    -0.3,\n",
    "    -0.2,\n",
    "    -0.1,\n",
    "    0,\n",
    "    0.1,\n",
    "    0.2,\n",
    "    0.3,\n",
    "    0.4,\n",
    "    0.5,\n",
    "    0.6,\n",
    "    0.7,\n",
    "    0.8,\n",
    "    0.9,\n",
    "    1\n",
    "]\n",
    "\n",
    "for output in outputs:\n",
    "    thrust_output = output\n",
    "    if thrust_output < -0.3:\n",
    "        thrust_power = ((thrust_output + 0.3) / 0.7) * 0.8\n",
    "    elif thrust_output >= -0.3 and thrust_output <= 0.3:\n",
    "        thrust_power = 0\n",
    "    else:\n",
    "        thrust_power = (thrust_output - 0.3) / 0.7\n",
    "    print(f\"thrust_output={thrust_output:.1f} -> thrust_power={thrust_power:.2f}\")"
   ]
  }
 ],
 "metadata": {
  "kernelspec": {
   "display_name": ".venv",
   "language": "python",
   "name": "python3"
  },
  "language_info": {
   "codemirror_mode": {
    "name": "ipython",
    "version": 3
   },
   "file_extension": ".py",
   "mimetype": "text/x-python",
   "name": "python",
   "nbconvert_exporter": "python",
   "pygments_lexer": "ipython3",
   "version": "3.13.2"
  }
 },
 "nbformat": 4,
 "nbformat_minor": 5
}
