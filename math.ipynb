{
 "cells": [
  {
   "cell_type": "code",
   "execution_count": 2,
   "id": "469b77de",
   "metadata": {},
   "outputs": [],
   "source": [
    "outputs = [\n",
    "    -1,\n",
    "    -0.9,\n",
    "    -0.8,\n",
    "    -0.7,\n",
    "    -0.6,\n",
    "    -0.5,\n",
    "    -0.4,\n",
    "    -0.3,\n",
    "    -0.2,\n",
    "    -0.1,\n",
    "    0,\n",
    "    0.1,\n",
    "    0.2,\n",
    "    0.3,\n",
    "    0.4,\n",
    "    0.5,\n",
    "    0.6,\n",
    "    0.7,\n",
    "    0.8,\n",
    "    0.9,\n",
    "    1\n",
    "]"
   ]
  },
  {
   "cell_type": "markdown",
   "id": "4a8633b6",
   "metadata": {},
   "source": [
    "### Thrust Handling"
   ]
  },
  {
   "cell_type": "code",
   "execution_count": 3,
   "id": "303645b3",
   "metadata": {},
   "outputs": [
    {
     "name": "stdout",
     "output_type": "stream",
     "text": [
      "thrust_output=-1.0 -> thrust_power=-0.80\n",
      "thrust_output=-0.9 -> thrust_power=-0.69\n",
      "thrust_output=-0.8 -> thrust_power=-0.57\n",
      "thrust_output=-0.7 -> thrust_power=-0.46\n",
      "thrust_output=-0.6 -> thrust_power=-0.34\n",
      "thrust_output=-0.5 -> thrust_power=-0.23\n",
      "thrust_output=-0.4 -> thrust_power=-0.11\n",
      "thrust_output=-0.3 -> thrust_power=0.00\n",
      "thrust_output=-0.2 -> thrust_power=0.00\n",
      "thrust_output=-0.1 -> thrust_power=0.00\n",
      "thrust_output=0.0 -> thrust_power=0.00\n",
      "thrust_output=0.1 -> thrust_power=0.00\n",
      "thrust_output=0.2 -> thrust_power=0.00\n",
      "thrust_output=0.3 -> thrust_power=0.00\n",
      "thrust_output=0.4 -> thrust_power=0.14\n",
      "thrust_output=0.5 -> thrust_power=0.29\n",
      "thrust_output=0.6 -> thrust_power=0.43\n",
      "thrust_output=0.7 -> thrust_power=0.57\n",
      "thrust_output=0.8 -> thrust_power=0.71\n",
      "thrust_output=0.9 -> thrust_power=0.86\n",
      "thrust_output=1.0 -> thrust_power=1.00\n"
     ]
    }
   ],
   "source": [
    "for output in outputs:\n",
    "    thrust_output = output\n",
    "    if thrust_output < -0.3:\n",
    "        thrust_power = ((thrust_output + 0.3) / 0.7) * 0.8\n",
    "    elif thrust_output >= -0.3 and thrust_output <= 0.3:\n",
    "        thrust_power = 0\n",
    "    else:\n",
    "        thrust_power = (thrust_output - 0.3) / 0.7\n",
    "    print(f\"thrust_output={thrust_output:.1f} -> thrust_power={thrust_power:.2f}\")"
   ]
  },
  {
   "cell_type": "markdown",
   "id": "6b27ff9b",
   "metadata": {},
   "source": [
    "### Turn Handling"
   ]
  },
  {
   "cell_type": "code",
   "execution_count": 7,
   "id": "aa878b12",
   "metadata": {},
   "outputs": [
    {
     "name": "stdout",
     "output_type": "stream",
     "text": [
      "turn_output=-1.0 -> turn_rate=-0.1000\n",
      "turn_output=-0.9 -> turn_rate=-0.0857\n",
      "turn_output=-0.8 -> turn_rate=-0.0714\n",
      "turn_output=-0.7 -> turn_rate=-0.0571\n",
      "turn_output=-0.6 -> turn_rate=-0.0429\n",
      "turn_output=-0.5 -> turn_rate=-0.0286\n",
      "turn_output=-0.4 -> turn_rate=-0.0143\n",
      "turn_output=-0.3 -> turn_rate=0.0000\n",
      "turn_output=-0.2 -> turn_rate=0.0000\n",
      "turn_output=-0.1 -> turn_rate=0.0000\n",
      "turn_output=0.0 -> turn_rate=0.0000\n",
      "turn_output=0.1 -> turn_rate=0.0000\n",
      "turn_output=0.2 -> turn_rate=0.0000\n",
      "turn_output=0.3 -> turn_rate=0.0000\n",
      "turn_output=0.4 -> turn_rate=0.0143\n",
      "turn_output=0.5 -> turn_rate=0.0286\n",
      "turn_output=0.6 -> turn_rate=0.0429\n",
      "turn_output=0.7 -> turn_rate=0.0571\n",
      "turn_output=0.8 -> turn_rate=0.0714\n",
      "turn_output=0.9 -> turn_rate=0.0857\n",
      "turn_output=1.0 -> turn_rate=0.1000\n"
     ]
    }
   ],
   "source": [
    "for output in outputs:\n",
    "    turn_output = output\n",
    "    if turn_output < -0.3:\n",
    "        turn_rate = ((turn_output + 0.3) / 0.7) * 0.1\n",
    "    elif turn_output >= -0.3 and turn_output <= 0.3:\n",
    "        turn_rate = 0\n",
    "    else:\n",
    "        turn_rate = (turn_output - 0.3) / 0.7 * 0.1\n",
    "    print(f\"turn_output={turn_output:.1f} -> turn_rate={turn_rate:.4f}\")"
   ]
  }
 ],
 "metadata": {
  "kernelspec": {
   "display_name": ".venv",
   "language": "python",
   "name": "python3"
  },
  "language_info": {
   "codemirror_mode": {
    "name": "ipython",
    "version": 3
   },
   "file_extension": ".py",
   "mimetype": "text/x-python",
   "name": "python",
   "nbconvert_exporter": "python",
   "pygments_lexer": "ipython3",
   "version": "3.13.2"
  }
 },
 "nbformat": 4,
 "nbformat_minor": 5
}
